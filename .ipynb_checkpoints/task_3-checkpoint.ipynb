{
 "cells": [
  {
   "cell_type": "markdown",
   "metadata": {},
   "source": [
    "Импорты"
   ]
  },
  {
   "cell_type": "code",
   "execution_count": 82,
   "metadata": {},
   "outputs": [],
   "source": [
    "import mysql.connector\n",
    "import pandas as pd\n",
    "pd.options.mode.chained_assignment = None"
   ]
  },
  {
   "cell_type": "markdown",
   "metadata": {},
   "source": [
    "Путь злостный читатель - это читатель, который берет больше определенного количества книг и не возвращает их(maxRentAmountThreshold), а также который берет книги сроком более чем 2 недели"
   ]
  },
  {
   "cell_type": "markdown",
   "metadata": {},
   "source": [
    "Значения пределов"
   ]
  },
  {
   "cell_type": "code",
   "execution_count": 98,
   "metadata": {},
   "outputs": [],
   "source": [
    "thresholds={\n",
    "    \"maxRentAmountThreshold\" : 0, # Разрешенное количество книг которое модет взять пользователь 5\n",
    "    \"unreturendDaysThreshold\" : 0, # Макасимальное время аренды книги 14\n",
    "    \"unreturenedAmountThreshold\":0 # Максимальное количество просроченных книг 1\n",
    "}"
   ]
  },
  {
   "cell_type": "markdown",
   "metadata": {},
   "source": [
    "Подключение к бд и получение необходмых данных"
   ]
  },
  {
   "cell_type": "code",
   "execution_count": 3,
   "metadata": {},
   "outputs": [],
   "source": [
    "mydb = mysql.connector.connect(\n",
    "  host=\"localhost\",\n",
    "  user=\"root\",\n",
    "  password=\"vertrigo\",\n",
    "  database=\"task db\"\n",
    ")\n",
    "\n",
    "dbcursor = mydb.cursor()\n",
    "\n",
    "dbcursor.execute(\"SELECT * FROM handout\")\n",
    "\n",
    "fetchres = dbcursor.fetchall()"
   ]
  },
  {
   "cell_type": "markdown",
   "metadata": {},
   "source": [
    "Преобразование данных в DataFrame для дальнейшей работы"
   ]
  },
  {
   "cell_type": "code",
   "execution_count": 4,
   "metadata": {},
   "outputs": [
    {
     "data": {
      "text/html": [
       "<div>\n",
       "<style scoped>\n",
       "    .dataframe tbody tr th:only-of-type {\n",
       "        vertical-align: middle;\n",
       "    }\n",
       "\n",
       "    .dataframe tbody tr th {\n",
       "        vertical-align: top;\n",
       "    }\n",
       "\n",
       "    .dataframe thead th {\n",
       "        text-align: right;\n",
       "    }\n",
       "</style>\n",
       "<table border=\"1\" class=\"dataframe\">\n",
       "  <thead>\n",
       "    <tr style=\"text-align: right;\">\n",
       "      <th></th>\n",
       "      <th>id</th>\n",
       "      <th>StudentID</th>\n",
       "      <th>TakenAT</th>\n",
       "      <th>ReturnedAT</th>\n",
       "      <th>BookID</th>\n",
       "    </tr>\n",
       "  </thead>\n",
       "  <tbody>\n",
       "    <tr>\n",
       "      <th>0</th>\n",
       "      <td>1</td>\n",
       "      <td>1</td>\n",
       "      <td>2021-08-03 16:45:07</td>\n",
       "      <td>2021-08-31</td>\n",
       "      <td>1</td>\n",
       "    </tr>\n",
       "    <tr>\n",
       "      <th>1</th>\n",
       "      <td>2</td>\n",
       "      <td>1</td>\n",
       "      <td>2021-08-04 00:00:00</td>\n",
       "      <td>NaT</td>\n",
       "      <td>2</td>\n",
       "    </tr>\n",
       "    <tr>\n",
       "      <th>2</th>\n",
       "      <td>3</td>\n",
       "      <td>2</td>\n",
       "      <td>2021-07-15 00:00:00</td>\n",
       "      <td>2021-08-03</td>\n",
       "      <td>1</td>\n",
       "    </tr>\n",
       "    <tr>\n",
       "      <th>3</th>\n",
       "      <td>4</td>\n",
       "      <td>1</td>\n",
       "      <td>2019-08-03 00:00:00</td>\n",
       "      <td>2019-08-03</td>\n",
       "      <td>3</td>\n",
       "    </tr>\n",
       "    <tr>\n",
       "      <th>4</th>\n",
       "      <td>5</td>\n",
       "      <td>1</td>\n",
       "      <td>2021-08-31 00:00:00</td>\n",
       "      <td>NaT</td>\n",
       "      <td>1</td>\n",
       "    </tr>\n",
       "    <tr>\n",
       "      <th>5</th>\n",
       "      <td>6</td>\n",
       "      <td>3</td>\n",
       "      <td>2021-08-03 00:00:00</td>\n",
       "      <td>2021-08-03</td>\n",
       "      <td>2</td>\n",
       "    </tr>\n",
       "  </tbody>\n",
       "</table>\n",
       "</div>"
      ],
      "text/plain": [
       "   id  StudentID             TakenAT ReturnedAT  BookID\n",
       "0   1          1 2021-08-03 16:45:07 2021-08-31       1\n",
       "1   2          1 2021-08-04 00:00:00        NaT       2\n",
       "2   3          2 2021-07-15 00:00:00 2021-08-03       1\n",
       "3   4          1 2019-08-03 00:00:00 2019-08-03       3\n",
       "4   5          1 2021-08-31 00:00:00        NaT       1\n",
       "5   6          3 2021-08-03 00:00:00 2021-08-03       2"
      ]
     },
     "execution_count": 4,
     "metadata": {},
     "output_type": "execute_result"
    }
   ],
   "source": [
    "df = pd.DataFrame(fetchres)\n",
    "df.columns = dbcursor.column_names\n",
    "df"
   ]
  },
  {
   "cell_type": "markdown",
   "metadata": {},
   "source": [
    "**Алгоритм поиска злостных читателей**"
   ]
  },
  {
   "cell_type": "markdown",
   "metadata": {},
   "source": [
    "*Функции алгоритма*"
   ]
  },
  {
   "cell_type": "markdown",
   "metadata": {},
   "source": [
    "Получение id пользователей"
   ]
  },
  {
   "cell_type": "code",
   "execution_count": 55,
   "metadata": {},
   "outputs": [],
   "source": [
    "def getUsersIDs(data):\n",
    "    return data.StudentID.drop_duplicates().values"
   ]
  },
  {
   "cell_type": "markdown",
   "metadata": {},
   "source": [
    "Функция для получения всех книг определенного пользователя"
   ]
  },
  {
   "cell_type": "code",
   "execution_count": 5,
   "metadata": {},
   "outputs": [],
   "source": [
    "def getUserBooks(data,StudentID):\n",
    "    return data[data[\"StudentID\"] == StudentID]"
   ]
  },
  {
   "cell_type": "markdown",
   "metadata": {},
   "source": [
    "Получение невозрващенных книг пользователя(подсчет значений null)"
   ]
  },
  {
   "cell_type": "code",
   "execution_count": 6,
   "metadata": {},
   "outputs": [],
   "source": [
    "def getUserUnreturnedBooks(userBooks):\n",
    "    return userBooks[userBooks.isnull().any(axis=1)]"
   ]
  },
  {
   "cell_type": "markdown",
   "metadata": {},
   "source": [
    "Получение возрващенных книг пользователя"
   ]
  },
  {
   "cell_type": "code",
   "execution_count": 7,
   "metadata": {},
   "outputs": [],
   "source": [
    "def getUserReturnedBooks(userBooks):\n",
    "    return userBooks.dropna()"
   ]
  },
  {
   "cell_type": "markdown",
   "metadata": {},
   "source": [
    "Проверка конкретного пользователя на превышение заданного количества книг"
   ]
  },
  {
   "cell_type": "code",
   "execution_count": 8,
   "metadata": {},
   "outputs": [],
   "source": [
    "def checkBooksThresholdForUser(unreturnedBooks,threshold):\n",
    "    return len(unreturnedBooks) >=threshold"
   ]
  },
  {
   "cell_type": "markdown",
   "metadata": {},
   "source": [
    "Проверка пользователя на превышение допустимого времени хранения книги"
   ]
  },
  {
   "cell_type": "code",
   "execution_count": 9,
   "metadata": {},
   "outputs": [],
   "source": [
    "def getUserBooksWithTimeThreshold(userBooks,threshold):\n",
    "    userBooks[\"isOverThreshold\"] = userBooks.apply(lambda row:  (row.ReturnedAT - row.TakenAT).days>=threshold, axis = 1)\n",
    "    return userBooks"
   ]
  },
  {
   "cell_type": "markdown",
   "metadata": {},
   "source": [
    "Получение количества просроченных книг пользователя"
   ]
  },
  {
   "cell_type": "code",
   "execution_count": 10,
   "metadata": {},
   "outputs": [],
   "source": [
    "def countUserOverdueBooks(userBooks,threshold):\n",
    "    userBooksWithThreshold = getUserBooksWithTimeThreshold(userBooks,threshold);\n",
    "    return len(userBooksWithThreshold[userBooksWithThreshold.isOverThreshold == True])\n",
    "    "
   ]
  },
  {
   "cell_type": "markdown",
   "metadata": {},
   "source": [
    "Проверка превышения количества просроченных книг"
   ]
  },
  {
   "cell_type": "code",
   "execution_count": 11,
   "metadata": {},
   "outputs": [],
   "source": [
    "def checkUserOverdueBooksThreshold(bookCount,threshold):\n",
    "    return bookCount>threshold"
   ]
  },
  {
   "cell_type": "markdown",
   "metadata": {},
   "source": [
    "Приведение всех функций проверки к одному виду"
   ]
  },
  {
   "cell_type": "code",
   "execution_count": 62,
   "metadata": {},
   "outputs": [],
   "source": [
    "def checkForBookThreshold(userBooks,thresholds):\n",
    "    package = getUserUnreturnedBooks(userBooks)\n",
    "    isClear = checkBooksThresholdForUser(package,thresholds[\"maxRentAmountThreshold\"])\n",
    "    \n",
    "    return {\"isOver\":isClear,\"package\":{\"error\":\"maxRentAmountThreshold\",\"value\":len(package)}}\n",
    "\n",
    "def checkForTimeThreshold(userBooks,threshold):\n",
    "    package = countUserOverdueBooks(userBooks,thresholds[\"unreturendDaysThreshold\"] )\n",
    "    isClear = checkUserOverdueBooksThreshold(package,threshold[\"unreturenedAmountThreshold\"])\n",
    "    return {\"isOver\":isClear,\"package\":{\"error\":\"unreturenedAmountThreshold\",\"value\":package}}\n",
    "\n",
    "filters = []\n",
    "filters.append(checkForBookThreshold)\n",
    "filters.append(checkForTimeThreshold)"
   ]
  },
  {
   "cell_type": "markdown",
   "metadata": {},
   "source": [
    "**Алгоритм проверки пользователя на злостность**"
   ]
  },
  {
   "cell_type": "code",
   "execution_count": 79,
   "metadata": {},
   "outputs": [],
   "source": [
    "def checkUserForEvil(data,studentID,thresholds):\n",
    "    userBooks = getUserBooks(data,studentID)\n",
    "    isEvil = False;\n",
    "    sins = []\n",
    "    for fun in filters:\n",
    "        cbres = fun(userBooks,thresholds);\n",
    "        if(cbres[\"isOver\"]):\n",
    "            isEvil = True\n",
    "            sins.append(cbres[\"package\"])\n",
    "    return {\"isEvil\":isEvil,\"sins\":sins}"
   ]
  },
  {
   "cell_type": "markdown",
   "metadata": {},
   "source": [
    "**Алгоритм поиска самого злостного читателя**"
   ]
  },
  {
   "cell_type": "code",
   "execution_count": 146,
   "metadata": {},
   "outputs": [],
   "source": [
    "def findTheSatan(data,thresholds,users):\n",
    "    evilUsers = []\n",
    "    for user in users:\n",
    "        res = checkUserForEvil(data,user,thresholds)\n",
    "        if(res[\"isEvil\"]):\n",
    "            evilUsers.append({\"user\":user,\"sins\":res[\"sins\"]})\n",
    "    sinners = pd.DataFrame(evilUsers)\n",
    "    sinners[\"sinCount\"] = sinners.apply(lambda row:  len(row.sins), axis = 1)\n",
    "    sinners[\"sinValue\"] = sinners.apply(lambda row:  sum([field[\"value\"] for field in row.sins]), axis = 1)\n",
    "    return sinners.sort_values(by=[\"sinCount\",\"sinValue\"],ascending=False).iloc[0]"
   ]
  },
  {
   "cell_type": "markdown",
   "metadata": {},
   "source": [
    "**Проверка функции**"
   ]
  },
  {
   "cell_type": "code",
   "execution_count": 147,
   "metadata": {},
   "outputs": [
    {
     "data": {
      "text/plain": [
       "user                                                        1\n",
       "sins        [{'error': 'maxRentAmountThreshold', 'value': ...\n",
       "sinCount                                                    2\n",
       "sinValue                                                    4\n",
       "Name: 0, dtype: object"
      ]
     },
     "execution_count": 147,
     "metadata": {},
     "output_type": "execute_result"
    }
   ],
   "source": [
    "findTheSatan(df,thresholds,getUsersIDs(df))"
   ]
  }
 ],
 "metadata": {
  "kernelspec": {
   "display_name": "Python 3",
   "language": "python",
   "name": "python3"
  },
  "language_info": {
   "codemirror_mode": {
    "name": "ipython",
    "version": 3
   },
   "file_extension": ".py",
   "mimetype": "text/x-python",
   "name": "python",
   "nbconvert_exporter": "python",
   "pygments_lexer": "ipython3",
   "version": "3.8.5"
  }
 },
 "nbformat": 4,
 "nbformat_minor": 4
}
