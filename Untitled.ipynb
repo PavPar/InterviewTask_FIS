{
 "cells": [
  {
   "cell_type": "markdown",
   "metadata": {},
   "source": [
    "Импорты"
   ]
  },
  {
   "cell_type": "code",
   "execution_count": 1,
   "metadata": {},
   "outputs": [],
   "source": [
    "import mysql.connector\n",
    "import pandas as pd"
   ]
  },
  {
   "cell_type": "markdown",
   "metadata": {},
   "source": [
    "Путь злостный читатель - это читатель, который берет больше опрделенного количества книг и не возвращает их(bookAmountThreshold), а также который берет книги сроком более чем 2 недели"
   ]
  },
  {
   "cell_type": "markdown",
   "metadata": {},
   "source": [
    "Значения пределов"
   ]
  },
  {
   "cell_type": "code",
   "execution_count": 31,
   "metadata": {},
   "outputs": [],
   "source": [
    "thresholds={\n",
    "    \"unreturenedAmountThreshold\" : 5,\n",
    "    \"unreturendDaysThreshold\" : 14,\n",
    "    \"unreturenedAmountTime\":1\n",
    "}"
   ]
  },
  {
   "cell_type": "markdown",
   "metadata": {},
   "source": [
    "Подключение к бд и получение необходмых данных"
   ]
  },
  {
   "cell_type": "code",
   "execution_count": 3,
   "metadata": {},
   "outputs": [],
   "source": [
    "mydb = mysql.connector.connect(\n",
    "  host=\"localhost\",\n",
    "  user=\"root\",\n",
    "  password=\"vertrigo\",\n",
    "  database=\"task db\"\n",
    ")\n",
    "\n",
    "dbcursor = mydb.cursor()\n",
    "\n",
    "dbcursor.execute(\"SELECT * FROM handout\")\n",
    "\n",
    "fetchres = dbcursor.fetchall()"
   ]
  },
  {
   "cell_type": "markdown",
   "metadata": {},
   "source": [
    "Преобразование данных в DataFrame для удобства работы"
   ]
  },
  {
   "cell_type": "code",
   "execution_count": 4,
   "metadata": {},
   "outputs": [
    {
     "data": {
      "text/html": [
       "<div>\n",
       "<style scoped>\n",
       "    .dataframe tbody tr th:only-of-type {\n",
       "        vertical-align: middle;\n",
       "    }\n",
       "\n",
       "    .dataframe tbody tr th {\n",
       "        vertical-align: top;\n",
       "    }\n",
       "\n",
       "    .dataframe thead th {\n",
       "        text-align: right;\n",
       "    }\n",
       "</style>\n",
       "<table border=\"1\" class=\"dataframe\">\n",
       "  <thead>\n",
       "    <tr style=\"text-align: right;\">\n",
       "      <th></th>\n",
       "      <th>id</th>\n",
       "      <th>StudentID</th>\n",
       "      <th>TakenAT</th>\n",
       "      <th>ReturnedAT</th>\n",
       "      <th>BookID</th>\n",
       "    </tr>\n",
       "  </thead>\n",
       "  <tbody>\n",
       "    <tr>\n",
       "      <th>0</th>\n",
       "      <td>1</td>\n",
       "      <td>1</td>\n",
       "      <td>2021-08-03 16:45:07</td>\n",
       "      <td>2021-08-31</td>\n",
       "      <td>1</td>\n",
       "    </tr>\n",
       "    <tr>\n",
       "      <th>1</th>\n",
       "      <td>2</td>\n",
       "      <td>1</td>\n",
       "      <td>2021-08-04 00:00:00</td>\n",
       "      <td>NaT</td>\n",
       "      <td>2</td>\n",
       "    </tr>\n",
       "    <tr>\n",
       "      <th>2</th>\n",
       "      <td>3</td>\n",
       "      <td>2</td>\n",
       "      <td>2021-07-15 00:00:00</td>\n",
       "      <td>2021-08-03</td>\n",
       "      <td>1</td>\n",
       "    </tr>\n",
       "    <tr>\n",
       "      <th>3</th>\n",
       "      <td>4</td>\n",
       "      <td>1</td>\n",
       "      <td>2019-08-03 00:00:00</td>\n",
       "      <td>2019-08-03</td>\n",
       "      <td>3</td>\n",
       "    </tr>\n",
       "    <tr>\n",
       "      <th>4</th>\n",
       "      <td>5</td>\n",
       "      <td>1</td>\n",
       "      <td>2021-08-31 00:00:00</td>\n",
       "      <td>NaT</td>\n",
       "      <td>1</td>\n",
       "    </tr>\n",
       "    <tr>\n",
       "      <th>5</th>\n",
       "      <td>6</td>\n",
       "      <td>3</td>\n",
       "      <td>2021-08-03 00:00:00</td>\n",
       "      <td>2021-08-03</td>\n",
       "      <td>2</td>\n",
       "    </tr>\n",
       "  </tbody>\n",
       "</table>\n",
       "</div>"
      ],
      "text/plain": [
       "   id  StudentID             TakenAT ReturnedAT  BookID\n",
       "0   1          1 2021-08-03 16:45:07 2021-08-31       1\n",
       "1   2          1 2021-08-04 00:00:00        NaT       2\n",
       "2   3          2 2021-07-15 00:00:00 2021-08-03       1\n",
       "3   4          1 2019-08-03 00:00:00 2019-08-03       3\n",
       "4   5          1 2021-08-31 00:00:00        NaT       1\n",
       "5   6          3 2021-08-03 00:00:00 2021-08-03       2"
      ]
     },
     "execution_count": 4,
     "metadata": {},
     "output_type": "execute_result"
    }
   ],
   "source": [
    "df = pd.DataFrame(fetchres)\n",
    "df.columns = dbcursor.column_names\n",
    "df"
   ]
  },
  {
   "cell_type": "markdown",
   "metadata": {},
   "source": [
    "**Алгоритм поиска злостных читателей**"
   ]
  },
  {
   "cell_type": "markdown",
   "metadata": {},
   "source": [
    "*Функции алгоритма*"
   ]
  },
  {
   "cell_type": "markdown",
   "metadata": {},
   "source": [
    "Функция для получения всех книг определенного пользователя"
   ]
  },
  {
   "cell_type": "code",
   "execution_count": 5,
   "metadata": {},
   "outputs": [],
   "source": [
    "def getUserBooks(data,StudentID):\n",
    "    return data[data[\"StudentID\"] == StudentID]"
   ]
  },
  {
   "cell_type": "markdown",
   "metadata": {},
   "source": [
    "Производим подсчет всех знчений Null, то есть производим поиск тех книг которые не были еше возвращены пользователем"
   ]
  },
  {
   "cell_type": "code",
   "execution_count": 6,
   "metadata": {},
   "outputs": [],
   "source": [
    "def getUserUnreturnedBooks(userBooks):\n",
    "    return userBooks[userBooks.isnull().any(axis=1)]"
   ]
  },
  {
   "cell_type": "code",
   "execution_count": 7,
   "metadata": {},
   "outputs": [],
   "source": [
    "def getUserReturnedBooks(userBooks):\n",
    "    return userBooks.dropna()"
   ]
  },
  {
   "cell_type": "markdown",
   "metadata": {},
   "source": [
    "Проверяем конкретного пользователя на превышение незданного количества книг"
   ]
  },
  {
   "cell_type": "code",
   "execution_count": 8,
   "metadata": {},
   "outputs": [],
   "source": [
    "def checkBooksThresholdForUser(unreturnedBooks,threshold):\n",
    "    return len(unreturnedBooks) >=threshold"
   ]
  },
  {
   "cell_type": "markdown",
   "metadata": {},
   "source": [
    "Проверка пользователя на превышение допустимого времени хранения книги"
   ]
  },
  {
   "cell_type": "code",
   "execution_count": 9,
   "metadata": {},
   "outputs": [],
   "source": [
    "def getUserBooksWithTimeThreshold(userBooks,threshold):\n",
    "    userBooks[\"isOverThreshold\"] = userBooks.apply(lambda row:  (row.ReturnedAT - row.TakenAT).days>=threshold, axis = 1)\n",
    "    return userBooks"
   ]
  },
  {
   "cell_type": "markdown",
   "metadata": {},
   "source": [
    "Получение количества просроченных книг пользователя"
   ]
  },
  {
   "cell_type": "code",
   "execution_count": 10,
   "metadata": {},
   "outputs": [],
   "source": [
    "def countUserOverdueBooks(userBooks,threshold):\n",
    "    userBooksWithThreshold = getUserBooksWithTimeThreshold(userBooks,threshold);\n",
    "    return len(userBooksWithThreshold[userBooksWithThreshold.isOverThreshold == True])\n",
    "    "
   ]
  },
  {
   "cell_type": "markdown",
   "metadata": {},
   "source": [
    "Проверка превышения количества просроченных книг"
   ]
  },
  {
   "cell_type": "code",
   "execution_count": 11,
   "metadata": {},
   "outputs": [],
   "source": [
    "def checkUserOverdueBooksThreshold(bookCount,threshold):\n",
    "    return bookCount>threshold"
   ]
  },
  {
   "cell_type": "markdown",
   "metadata": {},
   "source": [
    "Приводим все функции к одному виду"
   ]
  },
  {
   "cell_type": "code",
   "execution_count": 24,
   "metadata": {},
   "outputs": [],
   "source": [
    "def checkForBookThreshold(userBooks,thresholds):\n",
    "    return checkBooksThresholdForUser(getUserUnreturnedBooks(userBooks),thresholds[\"unreturenedAmountThreshold\"])\n",
    "\n",
    "def checkForTimeThreshold(userBooks,threshold):\n",
    "    return checkUserOverdueBooksThreshold(countUserOverdueBooks(userBooks,thresholds[\"unreturendDaysThreshold\"]),threshold[\"unreturenedAmountTime\"])"
   ]
  },
  {
   "cell_type": "markdown",
   "metadata": {},
   "source": [
    "Делаем массив для проверки"
   ]
  },
  {
   "cell_type": "code",
   "execution_count": 25,
   "metadata": {},
   "outputs": [],
   "source": [
    "filters = []\n",
    "filters.append(checkForBookThreshold)\n",
    "filters.append(checkForTimeThreshold)"
   ]
  },
  {
   "cell_type": "markdown",
   "metadata": {},
   "source": [
    "**Алгоритм проверки пользователя на злостность**"
   ]
  },
  {
   "cell_type": "code",
   "execution_count": 14,
   "metadata": {},
   "outputs": [],
   "source": [
    "def checkUserForEvil(data,studentID,thresholds):\n",
    "    userBooks = getUserBooks(data,studentID)\n",
    "    isEvil = False;\n",
    "    for fun in filters:\n",
    "        if(fun(userBooks,thresholds)):\n",
    "            isEvil = True\n",
    "            break\n",
    "    return  isEvil"
   ]
  },
  {
   "cell_type": "code",
   "execution_count": null,
   "metadata": {},
   "outputs": [],
   "source": []
  },
  {
   "cell_type": "markdown",
   "metadata": {},
   "source": [
    "**===Chaos ZONE===**"
   ]
  },
  {
   "cell_type": "code",
   "execution_count": 30,
   "metadata": {},
   "outputs": [
    {
     "data": {
      "text/plain": [
       "True"
      ]
     },
     "execution_count": 30,
     "metadata": {},
     "output_type": "execute_result"
    }
   ],
   "source": [
    "checkUserForEvil(df,1,thresholds)"
   ]
  },
  {
   "cell_type": "code",
   "execution_count": null,
   "metadata": {},
   "outputs": [],
   "source": [
    "checkBooksThresholdForUser(df,1,bookAmountThreshold)"
   ]
  },
  {
   "cell_type": "code",
   "execution_count": null,
   "metadata": {},
   "outputs": [],
   "source": [
    "getUserReturnedBooks(df,1)"
   ]
  },
  {
   "cell_type": "code",
   "execution_count": null,
   "metadata": {
    "scrolled": true
   },
   "outputs": [],
   "source": [
    "checkUserBooksForTimeLimit(df,1,bookDaysThreshold)"
   ]
  },
  {
   "cell_type": "code",
   "execution_count": null,
   "metadata": {},
   "outputs": [],
   "source": [
    "countUserOverdueBooks(df,1,bookDaysThreshold)"
   ]
  },
  {
   "cell_type": "code",
   "execution_count": null,
   "metadata": {},
   "outputs": [],
   "source": [
    "checkUserOverdueBooksThreshold(countUserOverdueBooks(df,1,bookDaysThreshold),bookAllowedDaysThresholdCount)"
   ]
  }
 ],
 "metadata": {
  "kernelspec": {
   "display_name": "Python 3",
   "language": "python",
   "name": "python3"
  },
  "language_info": {
   "codemirror_mode": {
    "name": "ipython",
    "version": 3
   },
   "file_extension": ".py",
   "mimetype": "text/x-python",
   "name": "python",
   "nbconvert_exporter": "python",
   "pygments_lexer": "ipython3",
   "version": "3.8.5"
  }
 },
 "nbformat": 4,
 "nbformat_minor": 4
}
